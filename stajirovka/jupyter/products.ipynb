{
 "cells": [
  {
   "cell_type": "code",
   "id": "initial_id",
   "metadata": {
    "collapsed": true,
    "jupyter": {
     "is_executing": true
    }
   },
   "source": [
    "from pyspark.sql import SparkSession\n",
    "from pyspark.sql.functions import col, lit\n",
    "\n",
    "# Создание SparkSession\n",
    "spark = SparkSession.builder.appName(\"ProductCategoryExample\").getOrCreate()\n",
    "\n",
    "# Пример данных\n",
    "products_data = [\n",
    "    (1, \"Product A\"),\n",
    "    (2, \"Product B\"),\n",
    "    (3, \"Product C\"),\n",
    "    (4, \"Product D\")\n",
    "]\n",
    "\n",
    "categories_data = [\n",
    "    (1, \"Category X\"),\n",
    "    (2, \"Category Y\"),\n",
    "    (3, \"Category Z\")\n",
    "]\n",
    "\n",
    "product_category_data = [\n",
    "    (1, 1),\n",
    "    (1, 2),\n",
    "    (2, 1),\n",
    "    (3, 3)\n",
    "]\n",
    "\n",
    "# Создание DataFrame\n",
    "products_df = spark.createDataFrame(products_data, [\"product_id\", \"product_name\"])\n",
    "categories_df = spark.createDataFrame(categories_data, [\"category_id\", \"category_name\"])\n",
    "product_category_df = spark.createDataFrame(product_category_data, [\"product_id\", \"category_id\"])\n"
   ],
   "outputs": [],
   "execution_count": null
  },
  {
   "metadata": {},
   "cell_type": "code",
   "outputs": [],
   "execution_count": null,
   "source": "",
   "id": "ffffdfde732d90c6"
  }
 ],
 "metadata": {
  "kernelspec": {
   "display_name": "Python 3",
   "language": "python",
   "name": "python3"
  },
  "language_info": {
   "codemirror_mode": {
    "name": "ipython",
    "version": 2
   },
   "file_extension": ".py",
   "mimetype": "text/x-python",
   "name": "python",
   "nbconvert_exporter": "python",
   "pygments_lexer": "ipython2",
   "version": "2.7.6"
  }
 },
 "nbformat": 4,
 "nbformat_minor": 5
}
